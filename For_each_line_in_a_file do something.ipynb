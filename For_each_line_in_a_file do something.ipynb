{
  "nbformat": 4,
  "nbformat_minor": 0,
  "metadata": {
    "colab": {
      "name": "For_eaach_line in a file.ipynb",
      "provenance": []
    },
    "kernelspec": {
      "name": "python3",
      "display_name": "Python 3"
    },
    "language_info": {
      "name": "python"
    }
  },
  "cells": [
    {
      "cell_type": "code",
      "execution_count": 2,
      "metadata": {
        "colab": {
          "base_uri": "https://localhost:8080/"
        },
        "id": "LtpB0-1aFNy5",
        "outputId": "664c1e3c-3c21-434d-d371-739e5ca12bd6"
      },
      "outputs": [
        {
          "output_type": "stream",
          "name": "stdout",
          "text": [
            "https://images01.nicepage.com/page/15/52/website-mockup-preview-1552883.jpg\n",
            "\n",
            "https://images01.nicepage.com/page/15/46/website-mockup-preview-154609.jpg\n",
            "\n",
            "https://images01.nicepage.com/page/45/81/website-mockup-preview-458170.jpg\n",
            "\n",
            "https://images01.nicepage.com/page/89/77/website-mockup-preview-897710.jpg\n",
            "\n",
            "https://images01.nicepage.com/page/55/59/website-mockup-preview-55597.jpg\n",
            "\n",
            "https://images01.nicepage.com/page/31/85/website-mockup-preview-318542.jpg\n",
            "\n",
            "https://images01.nicepage.com/page/57/17/website-mockup-preview-57178.jpg\n",
            "\n",
            "https://images01.nicepage.com/page/69/03/website-mockup-preview-690323.jpg\n",
            "\n",
            "https://images01.nicepage.com/page/14/96/website-mockup-preview-149615.jpg\n"
          ]
        }
      ],
      "source": [
        "with open(\"/content/listFile.txt\") as file:\n",
        "    for line in file:\n",
        "        print(line)"
      ]
    }
  ]
}