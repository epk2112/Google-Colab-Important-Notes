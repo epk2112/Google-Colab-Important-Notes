{
  "nbformat": 4,
  "nbformat_minor": 0,
  "metadata": {
    "colab": {
      "name": "MoviePy_Editing.ipynb",
      "provenance": [],
      "collapsed_sections": []
    },
    "kernelspec": {
      "name": "python3",
      "display_name": "Python 3"
    },
    "language_info": {
      "name": "python"
    }
  },
  "cells": [
    {
      "cell_type": "code",
      "execution_count": 1,
      "metadata": {
        "colab": {
          "base_uri": "https://localhost:8080/"
        },
        "id": "13G8hUd09A-1",
        "outputId": "a36f8a60-2100-475b-c5f7-9814bdba39d9"
      },
      "outputs": [
        {
          "output_type": "stream",
          "name": "stdout",
          "text": [
            "Mounted at /content/drive\n"
          ]
        }
      ],
      "source": [
        "from google.colab import drive\n",
        "drive.mount('/content/drive')"
      ]
    },
    {
      "cell_type": "code",
      "source": [
        "!pip install moviepy"
      ],
      "metadata": {
        "colab": {
          "base_uri": "https://localhost:8080/"
        },
        "id": "X2xb6EEV9DdJ",
        "outputId": "1325d3a9-c82d-487b-efcb-c505b30b50c2"
      },
      "execution_count": 2,
      "outputs": [
        {
          "output_type": "stream",
          "name": "stdout",
          "text": [
            "Looking in indexes: https://pypi.org/simple, https://us-python.pkg.dev/colab-wheels/public/simple/\n",
            "Requirement already satisfied: moviepy in /usr/local/lib/python3.7/dist-packages (0.2.3.5)\n",
            "Requirement already satisfied: tqdm<5.0,>=4.11.2 in /usr/local/lib/python3.7/dist-packages (from moviepy) (4.64.0)\n",
            "Requirement already satisfied: imageio<3.0,>=2.1.2 in /usr/local/lib/python3.7/dist-packages (from moviepy) (2.4.1)\n",
            "Requirement already satisfied: numpy in /usr/local/lib/python3.7/dist-packages (from moviepy) (1.21.6)\n",
            "Requirement already satisfied: decorator<5.0,>=4.0.2 in /usr/local/lib/python3.7/dist-packages (from moviepy) (4.4.2)\n",
            "Requirement already satisfied: pillow in /usr/local/lib/python3.7/dist-packages (from imageio<3.0,>=2.1.2->moviepy) (7.1.2)\n"
          ]
        }
      ]
    },
    {
      "cell_type": "code",
      "source": [
        "from moviepy.editor import *\n",
        "clip1 = VideoFileClip(\"/content/drive/MyDrive/newFolder/THE_GREAT_WIZARD_ILLUSIONIST.mp4\").subclip(250,260)\n",
        "clip2 = VideoFileClip(\"/content/drive/MyDrive/newFolder/THE_GREAT_WIZARD_ILLUSIONIST.mp4\").subclip(850,862)\n",
        "clip3 = VideoFileClip(\"/content/drive/MyDrive/newFolder/THE_GREAT_WIZARD_ILLUSIONIST.mp4\").subclip(5000,5013)\n",
        "final_clip = CompositeVideoClip([clip2.set_position((\"center\",\"top\")),\n",
        "                                    clip3.set_position((0,360))], size=(640,720))\n",
        "final_clip.write_videofile(\"/content/drive/MyDrive/newFolder/merged2_composite.mp4\")"
      ],
      "metadata": {
        "colab": {
          "base_uri": "https://localhost:8080/"
        },
        "id": "ZoHtR73V9W6h",
        "outputId": "6d730e80-aef6-4a6c-9b92-650d53e44182"
      },
      "execution_count": 15,
      "outputs": [
        {
          "output_type": "stream",
          "name": "stdout",
          "text": [
            "[MoviePy] >>>> Building video /content/drive/MyDrive/newFolder/merged2_composite.mp4\n",
            "[MoviePy] Writing audio in merged2_compositeTEMP_MPY_wvf_snd.mp3\n"
          ]
        },
        {
          "output_type": "stream",
          "name": "stderr",
          "text": [
            "100%|██████████| 287/287 [00:00<00:00, 450.65it/s]"
          ]
        },
        {
          "output_type": "stream",
          "name": "stdout",
          "text": [
            "[MoviePy] Done.\n",
            "[MoviePy] Writing video /content/drive/MyDrive/newFolder/merged2_composite.mp4\n"
          ]
        },
        {
          "output_type": "stream",
          "name": "stderr",
          "text": [
            "\n",
            "100%|█████████▉| 325/326 [00:09<00:00, 32.55it/s]\n"
          ]
        },
        {
          "output_type": "stream",
          "name": "stdout",
          "text": [
            "[MoviePy] Done.\n",
            "[MoviePy] >>>> Video ready: /content/drive/MyDrive/newFolder/merged2_composite.mp4 \n",
            "\n"
          ]
        }
      ]
    }
  ]
}